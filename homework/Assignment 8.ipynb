{
 "cells": [
  {
   "cell_type": "markdown",
   "metadata": {},
   "source": [
    "# Assignment 8\n",
    "\n",
    "*(Due Saturday, November 16, 2019 at noon.)*"
   ]
  },
  {
   "cell_type": "code",
   "execution_count": 5,
   "metadata": {},
   "outputs": [],
   "source": [
    "import numpy as np\n",
    "import pandas as pd\n",
    "import matplotlib.pyplot as plt\n",
    "import seaborn as sns\n",
    "\n",
    "%matplotlib notebook"
   ]
  },
  {
   "cell_type": "markdown",
   "metadata": {},
   "source": [
    "Load your dataset and create at least one visualization involving at least two variables (columns). Explain the relevance of this graph in the Markdown cell below, and use comments to document the code you use to produce it."
   ]
  },
  {
   "cell_type": "markdown",
   "metadata": {},
   "source": [
    "**Dataset:** Mortality Data 2017\n",
    "\n",
    "**Goal:** \n",
    "To visualize the relationship of mortality causes, age group and gender"
   ]
  },
  {
   "cell_type": "code",
   "execution_count": 19,
   "metadata": {},
   "outputs": [
    {
     "data": {
      "text/html": [
       "<div>\n",
       "<style scoped>\n",
       "    .dataframe tbody tr th:only-of-type {\n",
       "        vertical-align: middle;\n",
       "    }\n",
       "\n",
       "    .dataframe tbody tr th {\n",
       "        vertical-align: top;\n",
       "    }\n",
       "\n",
       "    .dataframe thead th {\n",
       "        text-align: right;\n",
       "    }\n",
       "</style>\n",
       "<table border=\"1\" class=\"dataframe\">\n",
       "  <thead>\n",
       "    <tr style=\"text-align: right;\">\n",
       "      <th></th>\n",
       "      <th>Unnamed: 0</th>\n",
       "      <th>Resident Status</th>\n",
       "      <th>Place of Death</th>\n",
       "      <th>Data Year</th>\n",
       "      <th>Month of Death</th>\n",
       "      <th>Sex</th>\n",
       "      <th>Race</th>\n",
       "      <th>Age</th>\n",
       "      <th>Marital Status</th>\n",
       "      <th>Education1</th>\n",
       "      <th>...</th>\n",
       "      <th>MOD_Desc_x</th>\n",
       "      <th>Race_Desc</th>\n",
       "      <th>Age_Desc</th>\n",
       "      <th>Marital_Desc</th>\n",
       "      <th>Edu1_Desc</th>\n",
       "      <th>113_Desc</th>\n",
       "      <th>POI_Desc</th>\n",
       "      <th>IAW_Desc</th>\n",
       "      <th>MOD_Desc_y</th>\n",
       "      <th>Autopsy_Desc</th>\n",
       "    </tr>\n",
       "  </thead>\n",
       "  <tbody>\n",
       "    <tr>\n",
       "      <td>0</td>\n",
       "      <td>306</td>\n",
       "      <td>1</td>\n",
       "      <td>1</td>\n",
       "      <td>2017</td>\n",
       "      <td>4</td>\n",
       "      <td>M</td>\n",
       "      <td>2</td>\n",
       "      <td>20</td>\n",
       "      <td>M</td>\n",
       "      <td>12.0</td>\n",
       "      <td>...</td>\n",
       "      <td>April</td>\n",
       "      <td>Black</td>\n",
       "      <td>70 - 74 yrs</td>\n",
       "      <td>Married</td>\n",
       "      <td>4 yrs of high school</td>\n",
       "      <td>Cerebrovascular diseases (I60-169)</td>\n",
       "      <td>Unspecified place</td>\n",
       "      <td>Unknown</td>\n",
       "      <td>Unknown</td>\n",
       "      <td>No</td>\n",
       "    </tr>\n",
       "    <tr>\n",
       "      <td>1</td>\n",
       "      <td>307</td>\n",
       "      <td>1</td>\n",
       "      <td>6</td>\n",
       "      <td>2017</td>\n",
       "      <td>6</td>\n",
       "      <td>F</td>\n",
       "      <td>2</td>\n",
       "      <td>23</td>\n",
       "      <td>W</td>\n",
       "      <td>12.0</td>\n",
       "      <td>...</td>\n",
       "      <td>June</td>\n",
       "      <td>Black</td>\n",
       "      <td>85 - 89 yrs</td>\n",
       "      <td>Widowed</td>\n",
       "      <td>4 yrs of high school</td>\n",
       "      <td>Diabetes mellitus (E10-E14)</td>\n",
       "      <td>Unspecified place</td>\n",
       "      <td>Unknown</td>\n",
       "      <td>Unknown</td>\n",
       "      <td>No</td>\n",
       "    </tr>\n",
       "    <tr>\n",
       "      <td>2</td>\n",
       "      <td>308</td>\n",
       "      <td>1</td>\n",
       "      <td>1</td>\n",
       "      <td>2017</td>\n",
       "      <td>3</td>\n",
       "      <td>M</td>\n",
       "      <td>2</td>\n",
       "      <td>23</td>\n",
       "      <td>M</td>\n",
       "      <td>12.0</td>\n",
       "      <td>...</td>\n",
       "      <td>March</td>\n",
       "      <td>Black</td>\n",
       "      <td>85 - 89 yrs</td>\n",
       "      <td>Married</td>\n",
       "      <td>4 yrs of high school</td>\n",
       "      <td>Falls (W00-W19)</td>\n",
       "      <td>Unspecified place</td>\n",
       "      <td>Unknown</td>\n",
       "      <td>Unknown</td>\n",
       "      <td>No</td>\n",
       "    </tr>\n",
       "    <tr>\n",
       "      <td>3</td>\n",
       "      <td>576</td>\n",
       "      <td>4</td>\n",
       "      <td>9</td>\n",
       "      <td>2017</td>\n",
       "      <td>1</td>\n",
       "      <td>F</td>\n",
       "      <td>2</td>\n",
       "      <td>20</td>\n",
       "      <td>M</td>\n",
       "      <td>4.0</td>\n",
       "      <td>...</td>\n",
       "      <td>January</td>\n",
       "      <td>Black</td>\n",
       "      <td>70 - 74 yrs</td>\n",
       "      <td>Married</td>\n",
       "      <td>Yrs of elementary school</td>\n",
       "      <td>Diabetes mellitus (E10-E14)</td>\n",
       "      <td>Unspecified place</td>\n",
       "      <td>Unknown</td>\n",
       "      <td>Unknown</td>\n",
       "      <td>Unknown</td>\n",
       "    </tr>\n",
       "    <tr>\n",
       "      <td>4</td>\n",
       "      <td>577</td>\n",
       "      <td>1</td>\n",
       "      <td>9</td>\n",
       "      <td>2017</td>\n",
       "      <td>2</td>\n",
       "      <td>F</td>\n",
       "      <td>2</td>\n",
       "      <td>24</td>\n",
       "      <td>W</td>\n",
       "      <td>99.0</td>\n",
       "      <td>...</td>\n",
       "      <td>February</td>\n",
       "      <td>Black</td>\n",
       "      <td>90 - 94 yrs</td>\n",
       "      <td>Widowed</td>\n",
       "      <td>Not stated</td>\n",
       "      <td>Essential hypertension and hypertensive renal...</td>\n",
       "      <td>Unspecified place</td>\n",
       "      <td>Unknown</td>\n",
       "      <td>Unknown</td>\n",
       "      <td>Unknown</td>\n",
       "    </tr>\n",
       "  </tbody>\n",
       "</table>\n",
       "<p>5 rows × 27 columns</p>\n",
       "</div>"
      ],
      "text/plain": [
       "   Unnamed: 0  Resident Status  Place of Death  Data Year  Month of Death Sex  \\\n",
       "0         306                1               1       2017               4   M   \n",
       "1         307                1               6       2017               6   F   \n",
       "2         308                1               1       2017               3   M   \n",
       "3         576                4               9       2017               1   F   \n",
       "4         577                1               9       2017               2   F   \n",
       "\n",
       "   Race  Age Marital Status  Education1  ...  MOD_Desc_x  Race_Desc  \\\n",
       "0     2   20              M        12.0  ...       April      Black   \n",
       "1     2   23              W        12.0  ...        June      Black   \n",
       "2     2   23              M        12.0  ...       March      Black   \n",
       "3     2   20              M         4.0  ...     January      Black   \n",
       "4     2   24              W        99.0  ...    February      Black   \n",
       "\n",
       "      Age_Desc Marital_Desc                 Edu1_Desc  \\\n",
       "0  70 - 74 yrs      Married      4 yrs of high school   \n",
       "1  85 - 89 yrs      Widowed      4 yrs of high school   \n",
       "2  85 - 89 yrs      Married      4 yrs of high school   \n",
       "3  70 - 74 yrs      Married  Yrs of elementary school   \n",
       "4  90 - 94 yrs      Widowed                Not stated   \n",
       "\n",
       "                                            113_Desc           POI_Desc  \\\n",
       "0                 Cerebrovascular diseases (I60-169)  Unspecified place   \n",
       "1                        Diabetes mellitus (E10-E14)  Unspecified place   \n",
       "2                                    Falls (W00-W19)  Unspecified place   \n",
       "3                        Diabetes mellitus (E10-E14)  Unspecified place   \n",
       "4   Essential hypertension and hypertensive renal...  Unspecified place   \n",
       "\n",
       "  IAW_Desc MOD_Desc_y Autopsy_Desc  \n",
       "0  Unknown    Unknown           No  \n",
       "1  Unknown    Unknown           No  \n",
       "2  Unknown    Unknown           No  \n",
       "3  Unknown    Unknown      Unknown  \n",
       "4  Unknown    Unknown      Unknown  \n",
       "\n",
       "[5 rows x 27 columns]"
      ]
     },
     "execution_count": 19,
     "metadata": {},
     "output_type": "execute_result"
    }
   ],
   "source": [
    "#load previously processed dataset\n",
    "mydata = pd.read_csv('../my_dataset/cleaned_mortalitydata.csv')\n",
    "mydata.head()"
   ]
  },
  {
   "cell_type": "code",
   "execution_count": 25,
   "metadata": {},
   "outputs": [
    {
     "data": {
      "image/png": "[encoded data removed]",
      "text/plain": [
       "<Figure size 1080x432 with 1 Axes>"
      ]
     },
     "metadata": {
      "needs_background": "light"
     },
     "output_type": "display_data"
    }
   ],
   "source": [
    "#plot histogram of age group\n",
    "fig, ax = plt.subplots(figsize=(15,6))\n",
    "plt.hist('Age_Desc', data = mydata.dropna(subset=['Age_Desc']))\n",
    "#y_pos = np.arange(len('Age_Desc'))\n",
    "#not sure how to arrange x axis numerically\n",
    "\n",
    "# rotating labels on the xaxis\n",
    "plt.xticks(rotation=45)\n",
    "plt.show()"
   ]
  },
  {
   "cell_type": "code",
   "execution_count": 27,
   "metadata": {},
   "outputs": [
    {
     "data": {
      "image/png": "[encoded data removed]",
      "text/plain": [
       "<Figure size 720x432 with 1 Axes>"
      ]
     },
     "metadata": {
      "needs_background": "light"
     },
     "output_type": "display_data"
    }
   ],
   "source": [
    "#shows relationship of weight and height between two groups (poor health vs good health)\n",
    "fig, ax = plt.subplots(figsize=(10,6))\n",
    "\n",
    "ax.scatter('Age_Desc', '113_Desc', label='Female',\n",
    "           alpha=.8, marker='^', data = mydata[mydata['Sex']=='F'])\n",
    "\n",
    "ax.scatter('Age_Desc', '113_Desc', label='Male',\n",
    "           alpha=.8, marker='+', data = mydata[mydata['Sex']=='M'])\n",
    "\n",
    "ax.legend()\n",
    "ax.grid(True)\n",
    "\n",
    "#data value seems too large, hence use log scale\n",
    "plt.xscale(\"log\") \n",
    "plt.yscale(\"log\")\n",
    "\n",
    "plt.show()\n",
    "\n",
    "#height and weight values seem not reasonable\n",
    "#not sure how to filter out the 999 values"
   ]
  },
  {
   "cell_type": "code",
   "execution_count": null,
   "metadata": {},
   "outputs": [],
   "source": []
  }
 ],
 "metadata": {
  "kernelspec": {
   "display_name": "Python 3",
   "language": "python",
   "name": "python3"
  },
  "language_info": {
   "codemirror_mode": {
    "name": "ipython",
    "version": 3
   },
   "file_extension": ".py",
   "mimetype": "text/x-python",
   "name": "python",
   "nbconvert_exporter": "python",
   "pygments_lexer": "ipython3",
   "version": "3.7.4"
  }
 },
 "nbformat": 4,
 "nbformat_minor": 2
}
