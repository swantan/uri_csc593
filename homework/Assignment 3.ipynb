{
 "cells": [
  {
   "cell_type": "markdown",
   "metadata": {},
   "source": [
    "# Assignment 3\n",
    "\n",
    "*(Due Saturday, October 5, 2019 at noon.)*"
   ]
  },
  {
   "cell_type": "code",
   "execution_count": 36,
   "metadata": {
    "collapsed": true
   },
   "outputs": [],
   "source": [
    "xml = \"\"\"\n",
    "<data>\n",
    "    <citation><author> T. Fahringer, R. Blasko, and H. Zima. </author> <title> Automatic performance prediction to support parallelization of Fortran programs for massively parallel systems. </title> <booktitle> In Proceedings of the 1992 ACM International Conference on Supercomputing, </booktitle> <location> Washington, DC, </location> <date> July 1992. </date></citation>\n",
    "    <citation><author> A. D. Kallis and D. Klappholz, </author> <title> ``Reaching definitions analysis on code containing array references,'' </title> <booktitle> Conf. Rec. of the 4th Workshop on Languages and Compilers for Parallel Computing, </booktitle> <date> Aug. 1991. </date></citation>\n",
    "    <citation><author> R. Fletcher. </author> <title> Practical Methods of Optimization. </title> <publisher> John Wiley &amp; Sons, </publisher> <date> 1987. </date></citation>\n",
    "    <citation><author> Clark, K. L., </author> <title> Negation as Failure, </title> <editor> in: H. Gallaire and J. Minker (eds.), </editor> <booktitle> Logic and Data Bases, </booktitle> <publisher> Plenum Press, </publisher> <location> New York, </location> <date> 1978. </date></citation>\n",
    "    <citation><author> Gent, I. P., &amp; Walsh, T. </author> <date> (1994a). </date> <title> Easy problems are sometimes hard. </title> <journal> Artificial Intelligence, </journal> <volume> 70, </volume> <pages> 335-345. </pages></citation>\n",
    "</data>\n",
    "\"\"\""
   ]
  },
  {
   "cell_type": "markdown",
   "metadata": {},
   "source": [
    "### Task\n",
    "\n",
    "Copy your `Citation` class here from your class notes, then:\n",
    "\n",
    "1. Write a function that takes the XML above and outputs a list of `Citation` objects containing the data from the XML. \n",
    "2. Run the function, loop over the `Citation`s, and prints the output of each one's `complete()` method."
   ]
  },
  {
   "cell_type": "code",
   "execution_count": 42,
   "metadata": {},
   "outputs": [
    {
     "data": {
      "text/plain": [
       "[{'author': ' T. Fahringer, R. Blasko, and H. Zima. ',\n",
       "  'booktitle': ' In Proceedings of the 1992 ACM International Conference on Supercomputing, ',\n",
       "  'date': ' July 1992. ',\n",
       "  'editor': None,\n",
       "  'journal': None,\n",
       "  'number': None,\n",
       "  'title': ' Automatic performance prediction to support parallelization of Fortran programs for massively parallel systems. ',\n",
       "  'volume': None},\n",
       " {'author': ' A. D. Kallis and D. Klappholz, ',\n",
       "  'booktitle': ' Conf. Rec. of the 4th Workshop on Languages and Compilers for Parallel Computing, ',\n",
       "  'date': ' Aug. 1991. ',\n",
       "  'editor': None,\n",
       "  'journal': None,\n",
       "  'number': None,\n",
       "  'title': \" ``Reaching definitions analysis on code containing array references,'' \",\n",
       "  'volume': None},\n",
       " {'author': ' R. Fletcher. ',\n",
       "  'booktitle': None,\n",
       "  'date': ' 1987. ',\n",
       "  'editor': None,\n",
       "  'journal': None,\n",
       "  'number': None,\n",
       "  'title': ' Practical Methods of Optimization. ',\n",
       "  'volume': None},\n",
       " {'author': ' Clark, K. L., ',\n",
       "  'booktitle': ' Logic and Data Bases, ',\n",
       "  'date': ' 1978. ',\n",
       "  'editor': ' in: H. Gallaire and J. Minker (eds.), ',\n",
       "  'journal': None,\n",
       "  'number': None,\n",
       "  'title': ' Negation as Failure, ',\n",
       "  'volume': None},\n",
       " {'author': ' Gent, I. P., & Walsh, T. ',\n",
       "  'booktitle': None,\n",
       "  'date': ' (1994a). ',\n",
       "  'editor': None,\n",
       "  'journal': ' Artificial Intelligence, ',\n",
       "  'number': None,\n",
       "  'title': ' Easy problems are sometimes hard. ',\n",
       "  'volume': ' 70, '}]"
      ]
     },
     "execution_count": 42,
     "metadata": {},
     "output_type": "execute_result"
    }
   ],
   "source": [
    "#TASK 1 - Write a function that takes the XML above and outputs a list of Citation objects containing the data from the XML.\n",
    "\n",
    "#import etree\n",
    "import xml.etree.ElementTree as ET\n",
    "\n",
    "#load xml data into a variable called xmldata\n",
    "xmldata = ET.fromstring(xml)\n",
    "\n",
    "#function to extract XML data above and return a list of citation objects\n",
    "def extract_citation(data):\n",
    "    \n",
    "    #creat an empty list to save citation objects later\n",
    "    citations = []\n",
    "    \n",
    "    #loop over each citation\n",
    "    for cite in data:\n",
    "        author = cite.find('author').text\n",
    "        title = cite.find('title').text\n",
    "\n",
    "        editor = cite.find('editor')\n",
    "        if editor != None:\n",
    "            editor = editor.text\n",
    "\n",
    "        journal = cite.find('journal')\n",
    "        if journal != None:\n",
    "            journal = journal.text\n",
    "\n",
    "        volume = cite.find('volume')\n",
    "        if volume != None:\n",
    "            volume = volume.text\n",
    "\n",
    "        number = cite.find('number')\n",
    "        if number != None:\n",
    "            number = number.text\n",
    "\n",
    "        booktitle = cite.find('booktitle')\n",
    "        if booktitle != None:\n",
    "            booktitle = booktitle.text\n",
    "\n",
    "        date = cite.find('date')\n",
    "        if date != None:\n",
    "            date = date.text\n",
    "\n",
    "        #print(author + title + date)\n",
    "\n",
    "        citation = {\n",
    "            \"author\" : author,\n",
    "            \"title\" : title,\n",
    "            \"editor\" : editor,\n",
    "            \"journal\" : journal,\n",
    "            \"volume\" : volume,\n",
    "            \"number\" : number,\n",
    "            \"booktitle\" : booktitle,\n",
    "            \"date\" : date\n",
    "        }\n",
    "        \n",
    "        #combine each citation list into a bigger list of citations\n",
    "        citations.append(citation)\n",
    "        \n",
    "    return citations\n",
    "\n",
    "#call extract_citation function\n",
    "extract_citation(xmldata)"
   ]
  },
  {
   "cell_type": "code",
   "execution_count": 58,
   "metadata": {},
   "outputs": [
    {
     "name": "stdout",
     "output_type": "stream",
     "text": [
      "1  T. Fahringer, R. Blasko, and H. Zima.  Automatic performance prediction to support parallelization of Fortran programs for massively parallel systems.  In Proceedings of the 1992 ACM International Conference on Supercomputing,  July 1992. \n",
      "2  A. D. Kallis and D. Klappholz,  ``Reaching definitions analysis on code containing array references,''  Conf. Rec. of the 4th Workshop on Languages and Compilers for Parallel Computing,  Aug. 1991. \n",
      "3  R. Fletcher.  Practical Methods of Optimization.  1987. \n",
      "4  Clark, K. L.,  Negation as Failure,  Logic and Data Bases,  1978. \n",
      "5  Gent, I. P., & Walsh, T.  Easy problems are sometimes hard.  Artificial Intelligence,  70,  (1994a). \n"
     ]
    }
   ],
   "source": [
    "#TASK 2 - Run the function, loop over the Citations, and prints the output of each one's complete() method.\n",
    "\n",
    "input = extract_citation(xmldata)\n",
    "\n",
    "class Citation:\n",
    "    def __init__(self, details):\n",
    "        self.author = details['author']\n",
    "        self.title = details['title']\n",
    "        \n",
    "        if 'journal' in details:\n",
    "            self.journal = details['journal']\n",
    "        else:\n",
    "            self.journal = None\n",
    "        \n",
    "        if 'volume' in details:\n",
    "            self.volume = details['volume']\n",
    "        else:\n",
    "            self.volume = None\n",
    "            \n",
    "        if 'number' in details:\n",
    "            self.number = details['number']\n",
    "        else:\n",
    "            self.number = None\n",
    "        \n",
    "        if 'booktitle' in details:\n",
    "            self.booktitle = details['booktitle']\n",
    "        else:\n",
    "            self.booktitle = None\n",
    "            \n",
    "        self.date = details['date']\n",
    "        \n",
    "        \n",
    "    def names(self):\n",
    "        return self.author.split(',')\n",
    "    \n",
    "    def complete(self):\n",
    "        output = self.author + self.title\n",
    "        \n",
    "        if self.journal:\n",
    "            output += self.journal\n",
    "        \n",
    "        if self.volume:\n",
    "            output += self.volume\n",
    "        \n",
    "        if self.number:\n",
    "            output += self.number\n",
    "            \n",
    "        if self.booktitle:\n",
    "            output += self.booktitle\n",
    "            \n",
    "        if self.date:\n",
    "            output += self.date\n",
    "            \n",
    "        print(output)\n",
    "        \n",
    "for n in range(len(input)):\n",
    "    c = Citation(input[n])\n",
    "    print(n+1, end = \" \")\n",
    "    c.complete()"
   ]
  },
  {
   "cell_type": "code",
   "execution_count": 45,
   "metadata": {
    "collapsed": true
   },
   "outputs": [],
   "source": [
    "input = extract_citation(xmldata)\n",
    "\n"
   ]
  },
  {
   "cell_type": "markdown",
   "metadata": {},
   "source": [
    "#### Submitting\n",
    "\n",
    "In the Terminal (Mac) or Git Bash (Windows):\n",
    "\n",
    "`git commit -a -m 'Assignment 3 completed'`  \n",
    "`git push`"
   ]
  },
  {
   "cell_type": "markdown",
   "metadata": {},
   "source": [
    "### Reading for next week\n",
    "\n",
    "Read these sections on learnpython.org...  \n",
    "1. [List Comprehensions](https://www.learnpython.org/en/List_Comprehensions)\n",
    "2. [Multiple Function Arguments](https://www.learnpython.org/en/Multiple_Function_Arguments)\n",
    "\n",
    "Or these sections of The Python Tutorial.\n",
    "1. [5.1.3 and 5.1.4](https://docs.python.org/3/tutorial/datastructures.html#list-comprehensions)\n",
    "1. [4.7](https://docs.python.org/3/tutorial/controlflow.html#more-on-defining-functions)"
   ]
  }
 ],
 "metadata": {
  "kernelspec": {
   "display_name": "Python 3",
   "language": "python",
   "name": "python3"
  },
  "language_info": {
   "codemirror_mode": {
    "name": "ipython",
    "version": 3
   },
   "file_extension": ".py",
   "mimetype": "text/x-python",
   "name": "python",
   "nbconvert_exporter": "python",
   "pygments_lexer": "ipython3",
   "version": "3.6.9"
  }
 },
 "nbformat": 4,
 "nbformat_minor": 2
}
